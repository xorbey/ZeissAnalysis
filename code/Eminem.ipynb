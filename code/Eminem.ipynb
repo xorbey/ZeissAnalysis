{
 "cells": [
  {
   "cell_type": "markdown",
   "metadata": {},
   "source": [
    "# Eminem lyrics analysis\n",
    "\n",
    "This notebook analyzes Eminem's lyrics for plagiats in his lyrics.\n",
    "The objective hereby is to count the frequency of word patterns with a length of 3.\n",
    "\n",
    "### Process\n",
    "\n",
    "1. Load data from Csv: Data is stored in a single csv, holding the lyrics of all eminem songs.\n",
    "2. Preprocessing: Includes casting to lower case, mapping of contractions, removing numbers, punctuation and stopwords\n",
    "3. Count frequencies of phrases/ words: First strings holding one/three words are built, then their frequency is counted\n",
    "4. Visualize results: A bar chart visualizes the frequency of the word/text patterns\n",
    "\n",
    "### Potential improvements:\n",
    "\n",
    "Just look for patterns between songs, exclude patterns within songs"
   ]
  },
  {
   "cell_type": "markdown",
   "metadata": {},
   "source": [
    "### Imports"
   ]
  },
  {
   "cell_type": "code",
   "execution_count": 2,
   "metadata": {},
   "outputs": [
    {
     "name": "stderr",
     "output_type": "stream",
     "text": [
      "[nltk_data] Downloading package stopwords to\n",
      "[nltk_data]     C:\\Users\\ga67xer\\AppData\\Roaming\\nltk_data...\n",
      "[nltk_data]   Package stopwords is already up-to-date!\n",
      "[nltk_data] Downloading package punkt to\n",
      "[nltk_data]     C:\\Users\\ga67xer\\AppData\\Roaming\\nltk_data...\n",
      "[nltk_data]   Package punkt is already up-to-date!\n",
      "[nltk_data] Downloading package omw-1.4 to\n",
      "[nltk_data]     C:\\Users\\ga67xer\\AppData\\Roaming\\nltk_data...\n",
      "[nltk_data]   Package omw-1.4 is already up-to-date!\n",
      "[nltk_data] Downloading package wordnet to\n",
      "[nltk_data]     C:\\Users\\ga67xer\\AppData\\Roaming\\nltk_data...\n",
      "[nltk_data]   Package wordnet is already up-to-date!\n"
     ]
    }
   ],
   "source": [
    "import pandas as pd\n",
    "import numpy as np\n",
    "from sklearn.decomposition import TruncatedSVD\n",
    "from sklearn.feature_extraction.text import CountVectorizer, TfidfVectorizer\n",
    "from sklearn.manifold import TSNE\n",
    "import Functions\n",
    "import matplotlib.pyplot as plt\n",
    "from PIL import Image\n",
    "from wordcloud import WordCloud"
   ]
  },
  {
   "cell_type": "markdown",
   "metadata": {},
   "source": [
    "### Load data"
   ]
  },
  {
   "cell_type": "code",
   "execution_count": 3,
   "metadata": {},
   "outputs": [],
   "source": [
    "PATH = \"G:\\Zeiss\\data\\ALL_eminem.txt\"\n",
    "df = pd.read_csv(PATH, delimiter='\\t', header=None)"
   ]
  },
  {
   "cell_type": "code",
   "execution_count": 4,
   "metadata": {},
   "outputs": [
    {
     "data": {
      "text/html": [
       "<div>\n",
       "<style scoped>\n",
       "    .dataframe tbody tr th:only-of-type {\n",
       "        vertical-align: middle;\n",
       "    }\n",
       "\n",
       "    .dataframe tbody tr th {\n",
       "        vertical-align: top;\n",
       "    }\n",
       "\n",
       "    .dataframe thead th {\n",
       "        text-align: right;\n",
       "    }\n",
       "</style>\n",
       "<table border=\"1\" class=\"dataframe\">\n",
       "  <thead>\n",
       "    <tr style=\"text-align: right;\">\n",
       "      <th></th>\n",
       "      <th>0</th>\n",
       "    </tr>\n",
       "  </thead>\n",
       "  <tbody>\n",
       "    <tr>\n",
       "      <th>count</th>\n",
       "      <td>21711</td>\n",
       "    </tr>\n",
       "    <tr>\n",
       "      <th>unique</th>\n",
       "      <td>18127</td>\n",
       "    </tr>\n",
       "    <tr>\n",
       "      <th>top</th>\n",
       "      <td>[Eminem:]</td>\n",
       "    </tr>\n",
       "    <tr>\n",
       "      <th>freq</th>\n",
       "      <td>134</td>\n",
       "    </tr>\n",
       "  </tbody>\n",
       "</table>\n",
       "</div>"
      ],
      "text/plain": [
       "                0\n",
       "count       21711\n",
       "unique      18127\n",
       "top     [Eminem:]\n",
       "freq          134"
      ]
     },
     "execution_count": 4,
     "metadata": {},
     "output_type": "execute_result"
    }
   ],
   "source": [
    "df.describe()"
   ]
  },
  {
   "cell_type": "markdown",
   "metadata": {},
   "source": [
    "### Preprocessing"
   ]
  },
  {
   "cell_type": "code",
   "execution_count": 6,
   "metadata": {},
   "outputs": [],
   "source": [
    "# Cast text to lower case, remove contractions, numbers, punctuations, whitespaces, stopwords and lemmatize\n",
    "df['text_clean1'] = df[0].apply(Functions.to_lower)\n",
    "df['text_clean2'] = df['text_clean1'].apply(Functions.main_contraction)\n",
    "df['text_clean3'] = df['text_clean2'].apply(Functions.remove_numbers)\n",
    "df['text_clean4'] = df['text_clean3'].apply(Functions.remove_punct)\n",
    "df['text_clean5'] = df['text_clean4'].apply(Functions.to_strip)\n",
    "df['text_clean6'] = df['text_clean5'].apply(Functions.remove_stopwords)\n",
    "df['text_lemma'] = df['text_clean6'].apply(Functions.lemmatize)"
   ]
  },
  {
   "cell_type": "code",
   "execution_count": 7,
   "metadata": {},
   "outputs": [
    {
     "data": {
      "text/plain": [
       "0        look i was gonna go easy on you not to hurt yo...\n",
       "1                 but im only going to get this one chance\n",
       "2                                  six minutes six minutes\n",
       "3                           somethings wrong i can feel it\n",
       "4              six minutes six minutes slim shady youre on\n",
       "                               ...                        \n",
       "21706        ha hahha ha ha hah hah i told you i was shady\n",
       "21707              ha hahha hahha ha hah hahha hahha hahha\n",
       "21708                          yall didnt wanna believe me\n",
       "21709                                             im shady\n",
       "21710                                    and thats my name\n",
       "Name: text_clean5, Length: 21711, dtype: object"
      ]
     },
     "execution_count": 7,
     "metadata": {},
     "output_type": "execute_result"
    }
   ],
   "source": [
    "df['text_clean5']"
   ]
  },
  {
   "cell_type": "markdown",
   "metadata": {},
   "source": [
    "### Phrase frequency"
   ]
  },
  {
   "cell_type": "code",
   "execution_count": 31,
   "metadata": {},
   "outputs": [],
   "source": [
    "# Create one row per word\n",
    "single_words = df['text_clean6'].str.extractall('([a-zA_Z]+)')\n",
    "single_words.columns = ['Word']\n",
    "single_words = single_words.reset_index(drop=True)"
   ]
  },
  {
   "cell_type": "code",
   "execution_count": 37,
   "metadata": {},
   "outputs": [
    {
     "data": {
      "text/plain": [
       "98184"
      ]
     },
     "execution_count": 37,
     "metadata": {},
     "output_type": "execute_result"
    }
   ],
   "source": [
    "len(single_words)"
   ]
  },
  {
   "cell_type": "code",
   "execution_count": 32,
   "metadata": {},
   "outputs": [],
   "source": [
    "# Create one row with three words\n",
    "single_words2 = df['text_clean5'].str.extractall('([a-zA_Z]+)')\n",
    "single_words2.columns = ['Word']\n",
    "single_words2 = single_words2.reset_index(drop=True)\n",
    "\n",
    "joined_rows = []\n",
    "length_patterns = 3\n",
    "for i in range(len(single_words2.values)-(length_patterns)):\n",
    "    joined_text = single_words2.values[i][0]\n",
    "    for j in range(1, length_patterns):\n",
    "        joined_text += \" \"\n",
    "        joined_text += single_words2.values[i+j][0]\n",
    "    joined_rows.append(joined_text)\n",
    "pattern_df = pd.DataFrame(joined_rows, columns = [\"Patterns\"])"
   ]
  },
  {
   "cell_type": "markdown",
   "metadata": {},
   "source": [
    "### Results"
   ]
  },
  {
   "cell_type": "code",
   "execution_count": 33,
   "metadata": {},
   "outputs": [
    {
     "data": {
      "text/plain": [
       "Text(0, 0.5, 'Frequency of pattern')"
      ]
     },
     "execution_count": 33,
     "metadata": {},
     "output_type": "execute_result"
    },
    {
     "data": {
      "image/png": "[encoded data removed]",
      "text/plain": [
       "<Figure size 1296x432 with 1 Axes>"
      ]
     },
     "metadata": {
      "needs_background": "light"
     },
     "output_type": "display_data"
    }
   ],
   "source": [
    "# Count frequency of single words and visualize\n",
    "word_counts = single_words.value_counts()[:30]\n",
    "word_counts.index = [str(e[0]) for e in word_counts.index.values]\n",
    "ax =word_counts.plot.bar(figsize=(18,6), title = \"Word patterns in Eminem lyrics\")\n",
    "ax.set_ylabel(\"Frequency of pattern\")"
   ]
  },
  {
   "cell_type": "markdown",
   "metadata": {},
   "source": []
  },
  {
   "cell_type": "code",
   "execution_count": 34,
   "metadata": {},
   "outputs": [
    {
     "data": {
      "text/plain": [
       "Text(0, 0.5, 'Frequency of pattern')"
      ]
     },
     "execution_count": 34,
     "metadata": {},
     "output_type": "execute_result"
    },
    {
     "data": {
      "image/png": "[encoded data removed]",
      "text/plain": [
       "<Figure size 1296x432 with 1 Axes>"
      ]
     },
     "metadata": {
      "needs_background": "light"
     },
     "output_type": "display_data"
    }
   ],
   "source": [
    "# Count frequency of word patterns and visualize\n",
    "counts = pattern_df.value_counts()\n",
    "counts.index = [str(e[0]) for e in pattern_df.value_counts().index.values]\n",
    "ax = counts[:30].plot.bar( figsize=(18,6), title='Text patterns in Eminem lyrics')\n",
    "ax.set_ylabel(\"Frequency of pattern\")"
   ]
  },
  {
   "cell_type": "markdown",
   "metadata": {},
   "source": [
    "### Export for presentation"
   ]
  },
  {
   "cell_type": "code",
   "execution_count": 36,
   "metadata": {},
   "outputs": [],
   "source": [
    "import plotly.graph_objects as go\n",
    "import plotly.io as pio\n",
    "pio.renderers.default = \"browser\"\n",
    "counts = counts.sort_values()\n",
    "fig = go.Figure(go.Bar(x = counts[-10:], y = counts.index[-10:], orientation='h'))\n",
    "fig.update_layout(template = \"simple_white\", xaxis_title = \"Frequency\", yaxis_title = \"Word pattern\")\n",
    "fig.show()\n",
    "fig.write_image(\"G:\\Zeiss\\data\\Eminem word pattern.svg\")\n",
    "\n",
    "word_counts = word_counts.sort_values()\n",
    "fig = go.Figure(go.Bar(x = word_counts[-10:], y = word_counts.index[-10:], orientation='h'))\n",
    "fig.update_layout(template = \"simple_white\", xaxis_title = \"Frequency\", yaxis_title = \"Words\")\n",
    "fig.show()\n",
    "fig.write_image(\"G:\\Zeiss\\data\\Eminem words.svg\")\n"
   ]
  },
  {
   "cell_type": "code",
   "execution_count": null,
   "metadata": {},
   "outputs": [],
   "source": []
  }
 ],
 "metadata": {
  "kernelspec": {
   "display_name": "Python 3.7.11 ('Tensorflow2')",
   "language": "python",
   "name": "python3"
  },
  "language_info": {
   "codemirror_mode": {
    "name": "ipython",
    "version": 3
   },
   "file_extension": ".py",
   "mimetype": "text/x-python",
   "name": "python",
   "nbconvert_exporter": "python",
   "pygments_lexer": "ipython3",
   "version": "3.7.11"
  },
  "orig_nbformat": 4,
  "vscode": {
   "interpreter": {
    "hash": "16fca7711880da3f9245f42486dc581a63a241faf484f2fcedf04efeadf15f35"
   }
  }
 },
 "nbformat": 4,
 "nbformat_minor": 2
}
